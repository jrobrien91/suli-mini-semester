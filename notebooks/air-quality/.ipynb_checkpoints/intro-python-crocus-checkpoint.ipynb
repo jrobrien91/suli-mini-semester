{
 "cells": [
  {
   "cell_type": "markdown",
   "id": "6265c1a9-27d9-4b65-8f19-722ed1337cd5",
   "metadata": {},
   "source": [
    "# INTRODUCTION TO PYTHON"
   ]
  },
  {
   "cell_type": "markdown",
   "id": "76fddb10-e16a-4358-90b6-78f7d6580c32",
   "metadata": {},
   "source": [
    "----"
   ]
  },
  {
   "cell_type": "markdown",
   "id": "2ecb13b8-5dc7-4bbd-9605-75213fd25dc1",
   "metadata": {},
   "source": [
    "## Overview\n",
    "\n",
    "- My expertise is in observations of the atmosphere, particularly with in-situ (or in place) sensors.\n",
    "\n",
    "- This includes:  \n",
    "    - a) wiring instrumentation for communication with computer infrastructure,\n",
    "    - b) creating software to read / translate data,\n",
    "    - c) and quality control of the final dataset  \n",
    "\n",
    "- Shown below is an example of one of our instrumentation suites for the [Community Research on Climate & Urban Science (CROCUS)](https://crocus-urban.org/)  \n",
    "    - These CROCUS nodes measure meteorological and air quality parameters at their location <br>\n",
    "    - Provide a tremendous amount of data!\n",
    "          - Observations are at 4 Hz (4 observations per second) for eventually 21 locations throughout the city"
   ]
  },
  {
   "cell_type": "markdown",
   "id": "1d11820f-0284-4162-b658-9a2c0ddc1d20",
   "metadata": {
    "tags": []
   },
   "source": [
    "<img src=\"../../images/OBrien_ATMOS-CROCUS.png\" width=500 alt=\"Initial CROCUS Node\"></img>"
   ]
  },
  {
   "cell_type": "markdown",
   "id": "49443645-d396-442f-910c-327cf4523fe9",
   "metadata": {},
   "source": [
    "## Why Focus on Programming/Coding as an Undergraduate?\n",
    "\n",
    "### When I was an undergrad..\n",
    "\n",
    "- I had similiar instruments that reported observations into Comma Separated Value (CSV) files, that I read into Excel.  \n",
    "- Similar to the sample below  \n",
    "- For 6 weeks during a field experiment, I created 20 plots a day in Excel to view the data and verify observations were valid  "
   ]
  },
  {
   "cell_type": "markdown",
   "id": "033bfcc0-d76d-4341-8aa7-f699e9e7266b",
   "metadata": {},
   "source": [
    "| **time**                | **base_time** | **time_offset**     | **atmos_pressure** | **qc_atmos_pressure** | **temp_mean** | **qc_temp_mean** | **temp_std** | **rh_mean** | **qc_rh_mean** | **rh_std** | **vapor_pressure_mean** | **qc_vapor_pressure_mean** | **vapor_pressure_std** | **wspd_arith_mean** | **qc_wspd_arith_mean** | **wspd_vec_mean** | **qc_wspd_vec_mean** | **wdir_vec_mean** | **qc_wdir_vec_mean** | **wdir_vec_std** | **pwd_err_code** | **pwd_mean_vis_1min** | **qc_pwd_mean_vis_1min** | **pwd_mean_vis_10min** | **qc_pwd_mean_vis_10min** | **pwd_pw_code_inst** | **qc_pwd_pw_code_inst** | **pwd_pw_code_15min** | **qc_pwd_pw_code_15min** | **pwd_pw_code_1hr** | **qc_pwd_pw_code_1hr** | **pwd_precip_rate_mean_1min** | **qc_pwd_precip_rate_mean_1min** | **pwd_cumul_rain** | **qc_pwd_cumul_rain** | **pwd_cumul_snow** | **qc_pwd_cumul_snow** | **org_precip_rate_mean** | **qc_org_precip_rate_mean** | **tbrg_precip_total** | **qc_tbrg_precip_total** | **tbrg_precip_total_corr** | **qc_tbrg_precip_total_corr** | **logger_volt** | **qc_logger_volt** | **logger_temp** | **qc_logger_temp** | **lat**   | **lon**      | **alt** |\n",
    "| ----------------------- | ------------- | ------------------- | ------------------ | --------------------- | ------------- | ---------------- | ------------ | ----------- | -------------- | ---------- | ----------------------- | -------------------------- | ---------------------- | ------------------- | ---------------------- | ----------------- | -------------------- | ----------------- | -------------------- | ---------------- | ---------------- | --------------------- | ------------------------ | ---------------------- | ------------------------- | -------------------- | ----------------------- | --------------------- | ------------------------ | ------------------- | ---------------------- | ----------------------------- | -------------------------------- | ------------------ | --------------------- | ------------------ | --------------------- | ------------------------ | --------------------------- | --------------------- | ------------------------ | -------------------------- | ----------------------------- | --------------- | ------------------ | --------------- | ------------------ | --------- | ------------ | ------- |\n",
    "| **2023-06-14 00:00:00** | 2023-06-14    | 2023-06-14 00:00:00 | 71.67              | 0                     | 5.542         | 0                | 0.08         | 77.64       | 0              | 0.735      | 0.703                   | 0                          | 0.005                  | 5.884               | 0                      | 5.79              | 0                    | 308.7             | 0                    | 10.19            | 0.0              | 9781.0                | 0                        | 10952.0                | 0                         | 61.0                 | 0                       | 82.0                  | 0                        | 81.0                | 0                      | 1.26                          | 0                                | 10.17              | 0                     | 749.0              | 0                     | 0.382                    | 0                           | 0.0                   | 0                        | 0.0                        | 0                             | 11.58           | 0                  | 18.4            | 0                  | 38.956158 | \\-106.987854 | 2886.0  |\n",
    "| **2023-06-14 00:01:00** | 2023-06-14    | 2023-06-14 00:01:00 | 71.67              | 0                     | 5.455         | 0                | 0.058        | 78.94       | 0              | 0.352      | 0.71                    | 0                          | 0.004                  | 6.643               | 0                      | 6.628             | 0                    | 311.0             | 0                    | 3.738            | 0.0              | 15443.0               | 0                        | 10757.0                | 0                         | 61.0                 | 0                       | 82.0                  | 0                        | 81.0                | 0                      | 0.26                          | 0                                | 10.18              | 0                     | 749.0              | 0                     | 0.266                    | 0                           | 0.0                   | 0                        | 0.0                        | 0                             | 11.58           | 0                  | 18.27           | 0                  | 38.956158 | \\-106.987854 | 2886.0  |\n",
    "| **2023-06-14 00:02:00** | 2023-06-14    | 2023-06-14 00:02:00 | 71.68              | 0                     | 5.425         | 0                | 0.065        | 78.52       | 0              | 0.386      | 0.705                   | 0                          | 0.004                  | 5.478               | 0                      | 5.422             | 0                    | 317.5             | 0                    | 8.23             | 0.0              | 20000.0               | 0                        | 11419.0                | 0                         | 61.0                 | 0                       | 82.0                  | 0                        | 81.0                | 0                      | 0.21                          | 0                                | 10.18              | 0                     | 749.0              | 0                     | 0.115                    | 0                           | 0.0                   | 0                        | 0.0                        | 0                             | 11.58           | 0                  | 18.14           | 0                  | 38.956158 | \\-106.987854 | 2886.0  |\n",
    "| **2023-06-14 00:03:00** | 2023-06-14    | 2023-06-14 00:03:00 | 71.67              | 0                     | 5.397         | 0                | 0.067        | 79.73       | 0              | 0.463      | 0.715                   | 0                          | 0.005                  | 5.228               | 0                      | 5.171             | 0                    | 329.9             | 0                    | 8.45             | 0.0              | 20000.0               | 0                        | 12621.0                | 0                         | 61.0                 | 0                       | 82.0                  | 0                        | 81.0                | 0                      | 0.12                          | 0                                | 10.18              | 0                     | 749.0              | 0                     | 0.241                    | 0                           | 0.0                   | 0                        | 0.0                        | 0                             | 11.58           | 0                  | 18.0            | 0                  | 38.956158 | \\-106.987854 | 2886.0  |\n",
    "| **2023-06-14 00:04:00** | 2023-06-14    | 2023-06-14 00:04:00 | 71.67              | 0                     | 5.408         | 0                | 0.077        | 80.1        | 0              | 0.266      | 0.718                   | 0                          | 0.005                  | 5.113               | 0                      | 5.085             | 0                    | 323.3             | 0                    | 5.995            | 0.0              | 20000.0               | 0                        | 13549.0                | 0                         | 61.0                 | 0                       | 82.0                  | 0                        | 81.0                | 0                      | 0.02                          | 0                                | 10.18              | 0                     | 749.0              | 0                     | 0.003                    | 0                           | 0.0                   | 0                        | 0.0                        | 0                             | 11.59           | 0                  | 17.87           | 0                  | 38.956158 | \\-106.987854 | 2886.0  |"
   ]
  },
  {
   "cell_type": "markdown",
   "id": "86481d97-0e37-41d9-9406-cc5559437e84",
   "metadata": {
    "jp-MarkdownHeadingCollapsed": true
   },
   "source": [
    "### Programming allows for ...\n",
    "-  automation of simple / complex tasks\n",
    "-  flexibility!\n",
    "-  visually appealing graphics\n",
    "-  opens up a world of new tools that can help your research / life"
   ]
  },
  {
   "cell_type": "markdown",
   "id": "52bef557-c8c7-428b-8e6f-9f3f80e44811",
   "metadata": {},
   "source": [
    "## Why Python?"
   ]
  },
  {
   "cell_type": "markdown",
   "id": "9643b95a-8ba1-4830-ad4d-d805df32309f",
   "metadata": {},
   "source": [
    "Python is an object-oriented, high-level language. It is not the only one. \n",
    "\n",
    "So why Python? It's free, open-source, and has been **heavily adapted by the scientific community**\n",
    "\n",
    "\n",
    "For me, the open-source nature was critical.  \n",
    "\n",
    "To have a community of active developers creating new packages means the language is adaptible to new challenges  \n",
    "and there are plenty of examples!!"
   ]
  },
  {
   "cell_type": "markdown",
   "id": "108a4e09-6949-405c-a366-219b2a5c8be2",
   "metadata": {},
   "source": [
    "## Prerequisites\n",
    "\n",
    "Before we begin, you should be aware of these examples and documentation! \n",
    "\n",
    "The [Project Pythia](https://projectpythia.org/) has tremendous examples and *foundations* to explore. \n",
    "\n",
    "| Concepts | Importance | Notes |\n",
    "| --- | --- | --- |\n",
    "| [Getting Started with Python](https://foundations.projectpythia.org/foundations/getting-started-python.html) | Necessary | The Basics\n",
    "| [Getting Started with Jupyter](https://foundations.projectpythia.org/foundations/getting-started-jupyter.html) | Necessary | Learn This Notebook Interface\n",
    "| [Working with Pandas Dataframes](https://foundations.projectpythia.org/core/pandas.html) | Helpful | Understanding CSV Data Objects\n",
    "| [X-Array!](https://foundations.projectpythia.org/core/xarray.html) | Helpful | Working with NetCDF Objects\n",
    "\n",
    "- **Time to Learn**: 60-120 minutes"
   ]
  },
  {
   "cell_type": "markdown",
   "id": "5bcea493-9ca2-47c8-9517-df84add7314a",
   "metadata": {},
   "source": [
    "----"
   ]
  },
  {
   "cell_type": "markdown",
   "id": "964df91e-213c-4516-90d7-48a52c90f807",
   "metadata": {},
   "source": [
    "<div class=\"admonition alert alert-info\">\n",
    "    <p class=\"admonition-title\" style=\"font-weight:bold\">Let's Get Started!</p>\n",
    "    Start of the Intro to Python Lesson\n",
    "</div>"
   ]
  },
  {
   "cell_type": "code",
   "execution_count": 3,
   "id": "519202d5-1c8c-4d93-82f8-7f24122cc048",
   "metadata": {},
   "outputs": [
    {
     "name": "stdout",
     "output_type": "stream",
     "text": [
      "Hello World!\n",
      "Hello Students!\n"
     ]
    }
   ],
   "source": [
    "print(\"Hello World!\")\n",
    "print('Hello Students!')"
   ]
  },
  {
   "cell_type": "markdown",
   "id": "6e03c6ef-5a6c-4052-8de2-0e87a25c155a",
   "metadata": {},
   "source": [
    "## Loops\n",
    "`for` loops are a stable of scientific programming"
   ]
  },
  {
   "cell_type": "code",
   "execution_count": null,
   "id": "d7a9c66a-ae9b-43b3-a310-a8c592b138af",
   "metadata": {},
   "outputs": [],
   "source": [
    "for i in range(10):\n",
    "    print(i)"
   ]
  },
  {
   "cell_type": "markdown",
   "id": "56b3ce65-31cf-4ed9-b880-c99bfee30076",
   "metadata": {
    "jp-MarkdownHeadingCollapsed": true
   },
   "source": [
    "### Things to Note:\n",
    "- Python defaults to counting starting from 0 rather than 1.  \n",
    "- Function calls (such as range) always use parentheses.  \n",
    "    - for loops require colons as punctuation to start.  \n",
    "- Code blocks are indicated through indentations.\n",
    "  - **NOTE** indentations need to be similar for each block of code."
   ]
  },
  {
   "cell_type": "markdown",
   "id": "fa4dc284-2a34-4f3a-8119-860d308f4820",
   "metadata": {},
   "source": [
    "## Conditional Statements\n",
    "\n",
    "For logicial decisions, Python has an `if` statement"
   ]
  },
  {
   "cell_type": "code",
   "execution_count": null,
   "id": "00792a5e-f67e-4796-a765-c1dbd114b733",
   "metadata": {},
   "outputs": [],
   "source": [
    "if i > 2: \n",
    "    print(\"i is greater than 2!\")\n",
    "else:\n",
    "    print(\"i is less than 2!\")"
   ]
  },
  {
   "cell_type": "markdown",
   "id": "b4555587-d326-4205-810d-cd26b979384a",
   "metadata": {},
   "source": [
    "<div class=\"admonition alert alert-warning\">\n",
    "    <p class=\"admonition-title\" style=\"font-weight:bold\">Question</p>\n",
    "    Why is i greater than 2? What value is i?\n",
    "    If you do not know the answer, how could you determine it's value?\n",
    "</div>"
   ]
  },
  {
   "cell_type": "markdown",
   "id": "a5780299-a016-4614-b14a-95c1f8df57c6",
   "metadata": {},
   "source": [
    "Python also defines `True` and `False` logical conditions"
   ]
  },
  {
   "cell_type": "code",
   "execution_count": null,
   "id": "7f698ae5-cd4e-452a-b296-6c7fdca26e67",
   "metadata": {},
   "outputs": [],
   "source": [
    "i < 8"
   ]
  },
  {
   "cell_type": "markdown",
   "id": "d9108233-81d9-4008-a7b0-e20f8b3c5b46",
   "metadata": {},
   "source": [
    "Python also includes compound statements `and` and `or`"
   ]
  },
  {
   "cell_type": "code",
   "execution_count": 4,
   "id": "b2c736b9-9511-4836-84cc-7f0542021ff6",
   "metadata": {},
   "outputs": [
    {
     "name": "stdout",
     "output_type": "stream",
     "text": [
      "this is iteration number 3.\n",
      "this is iteration number 4.\n",
      "this is iteration number 5.\n",
      "this is iteration number 6.\n",
      "this is iteration number 7.\n",
      "this is iteration number 8.\n"
     ]
    }
   ],
   "source": [
    "for i in range(10):\n",
    "    if i > 2 and i <= 8:\n",
    "        print(f\"this is iteration number {i}.\")\n",
    "    if i > 9 or i < 0:\n",
    "        print('this condition is never met')"
   ]
  },
  {
   "cell_type": "markdown",
   "id": "aaabc874-1f7e-4333-afee-633e12b46f58",
   "metadata": {},
   "source": [
    "## Basic Python Data Types\n",
    "\n",
    "A key strength of Python are the flexible data types"
   ]
  },
  {
   "cell_type": "markdown",
   "id": "f7cc47aa-5a30-44c8-b449-95d34ed0814b",
   "metadata": {},
   "source": [
    "<div class=\"admonition alert alert-warning\">\n",
    "    <p class=\"admonition-title\" style=\"font-weight:bold\">Question</p>\n",
    "    What data type is i?\n",
    "</div>"
   ]
  },
  {
   "cell_type": "markdown",
   "id": "8e0a6c2e-2a74-4e53-89fe-1b99b8fab934",
   "metadata": {},
   "source": [
    "### Floating Point Numbers `float`"
   ]
  },
  {
   "cell_type": "code",
   "execution_count": null,
   "id": "f283d1cb-7741-449f-b739-100ebb99997d",
   "metadata": {},
   "outputs": [],
   "source": [
    "a = 10.58\n",
    "b = 1e-9\n",
    "print(a, type(a))\n",
    "print(b, type(b))"
   ]
  },
  {
   "cell_type": "markdown",
   "id": "0ab4b4b0-6415-474c-849c-262f04390bed",
   "metadata": {},
   "source": [
    "## Character strings `str`"
   ]
  },
  {
   "cell_type": "code",
   "execution_count": null,
   "id": "c1662ba1-e5cf-478b-aae7-c494f8ef185d",
   "metadata": {},
   "outputs": [],
   "source": [
    "c = 'Argonne National Laboratory'\n",
    "d = \"Atmospheric Sciences\" \n",
    "e = \"cloudy, hot, humid\""
   ]
  },
  {
   "cell_type": "code",
   "execution_count": null,
   "id": "da2c3da7-4df4-4eb5-8a04-990179198d35",
   "metadata": {},
   "outputs": [],
   "source": [
    "print(c)\n",
    "print(d)\n",
    "print(e)\n",
    "print(type(c), type(d), type(e))"
   ]
  },
  {
   "cell_type": "markdown",
   "id": "3c5a46e1-7151-4af8-b0ff-5485bff78673",
   "metadata": {},
   "source": [
    "### Lists\n",
    " - A ordered container of objects denoted by **square brackets**\n",
    " - Note that objects can be any data type"
   ]
  },
  {
   "cell_type": "code",
   "execution_count": 7,
   "id": "6752a273-deba-4a8c-81ce-840ddc7cb1d8",
   "metadata": {},
   "outputs": [],
   "source": [
    "mylist = [10, 20, 30, 40]"
   ]
  },
  {
   "cell_type": "code",
   "execution_count": 8,
   "id": "1f907ba7-a2ba-464b-b80c-ea6fb4d15ad4",
   "metadata": {},
   "outputs": [
    {
     "name": "stdout",
     "output_type": "stream",
     "text": [
      "[10, 20, 30, 40] <class 'list'>\n"
     ]
    }
   ],
   "source": [
    "print(mylist, type(mylist))"
   ]
  },
  {
   "cell_type": "code",
   "execution_count": 9,
   "id": "f2d44982-d0f1-458f-9782-86a04344ce04",
   "metadata": {},
   "outputs": [
    {
     "name": "stdout",
     "output_type": "stream",
     "text": [
      "10 <class 'int'>\n",
      "20.5 <class 'float'>\n",
      "1000000000.0 <class 'float'>\n",
      "Python <class 'str'>\n"
     ]
    }
   ],
   "source": [
    "newlist = [10, 20.5, 1e9, 'Python']\n",
    "for var in newlist:\n",
    "    print(var, type(var))"
   ]
  },
  {
   "cell_type": "markdown",
   "id": "9576ebc3-66c5-4095-a5c4-9299e15016cc",
   "metadata": {},
   "source": [
    "- Since `Lists` are **ordered** we can access items by index"
   ]
  },
  {
   "cell_type": "code",
   "execution_count": null,
   "id": "816daea6-a5a3-4b4b-8077-541fb4878f3b",
   "metadata": {},
   "outputs": [],
   "source": [
    "newlist[1]"
   ]
  },
  {
   "cell_type": "markdown",
   "id": "4e833e97-7840-42ce-adbd-3ce5be11a5d1",
   "metadata": {},
   "source": [
    "## What Now?"
   ]
  },
  {
   "cell_type": "markdown",
   "id": "03e78291-e514-42b1-a9c1-442bf5db1a13",
   "metadata": {},
   "source": [
    "- Now that the Python basics have been reintroduced, let's take a look a specific libraries that are useful in scientific applications\n"
   ]
  },
  {
   "cell_type": "markdown",
   "id": "a24f1386-c1ce-4487-acc4-0e17f82d5176",
   "metadata": {},
   "source": [
    "## Matplotlib - Scientific Data Visualization"
   ]
  },
  {
   "cell_type": "markdown",
   "id": "8e223313-31a8-43a1-9368-91b824865043",
   "metadata": {},
   "source": [
    "From the [Matplotlib Documentation](https://matplotlib.org/stable/index.html):\n",
    "\n",
    "> Matplotlib is a comprehensive library for creating static, animated, and interactive visualizations in Python. Matplotlib makes easy things easy and hard things possible.\n",
    "\n",
    "> - Create publication quality plots.\n",
    "> - Make interactive figures that can zoom, pan, update.\n",
    "> - Cus tomize visual style and layout.\n",
    "> - Export to many file formats.\n",
    "> - Embed in JupyterLab and Graphical User Interfaces.\n",
    "> - Use a rich array of third-party packages built on Matplotlib.\n",
    "\n",
    "Additional Tutorials:\n",
    "- [ProjectPythia Matplotlib](https://foundations.projectpythia.org/core/matplotlib.html)"
   ]
  },
  {
   "cell_type": "code",
   "execution_count": 13,
   "id": "3e03a1e7-3dd0-417c-b9e8-98bcfdea9c20",
   "metadata": {},
   "outputs": [],
   "source": [
    "# Data we wish to display\n",
    "varA = [0, 1, 2, 3, 4]\n",
    "varB = [0, 1, 2, 3, 4]\n",
    "varC = [0, 1, 4, 9, 16]"
   ]
  },
  {
   "cell_type": "code",
   "execution_count": 14,
   "id": "066a79d4-4662-4ada-86bb-e1081de2266d",
   "metadata": {},
   "outputs": [
    {
     "data": {
      "image/png": "[encoded data removed]",
      "text/plain": [
       "<Figure size 640x480 with 1 Axes>"
      ]
     },
     "metadata": {},
     "output_type": "display_data"
    }
   ],
   "source": [
    "import matplotlib.pyplot as plt # Convention is to import and rename. Best to stick with convention\n",
    "\n",
    "# Create a Figure\n",
    "fig = plt.figure()\n",
    "\n",
    "# Add an axis to display data in\n",
    "ax = fig.add_subplot(1, 1, 1)\n",
    "\n",
    "# Plot the first set of data\n",
    "ax.plot(varA, varB, label='y = x') # include a label!\n",
    "# Plot the second set of data\n",
    "ax.plot(varA, varC, label=r'y = x$^2$')\n",
    "# Label your axes\n",
    "ax.set_ylabel('Y Values [#]')\n",
    "ax.set_xlabel('X Values [#]')\n",
    "# Add a title\n",
    "ax.set_title('First Matplotlib Plot')\n",
    "# Add a legend\n",
    "ax.legend(loc='upper left')\n",
    "# Display!\n",
    "plt.show()"
   ]
  },
  {
   "cell_type": "code",
   "execution_count": null,
   "id": "4386eb64-e1ae-486c-9499-c3b8c92c9334",
   "metadata": {},
   "outputs": [],
   "source": []
  }
 ],
 "metadata": {
  "kernelspec": {
   "display_name": "Python 3 (ipykernel)",
   "language": "python",
   "name": "python3"
  },
  "language_info": {
   "codemirror_mode": {
    "name": "ipython",
    "version": 3
   },
   "file_extension": ".py",
   "mimetype": "text/x-python",
   "name": "python",
   "nbconvert_exporter": "python",
   "pygments_lexer": "ipython3",
   "version": "3.11.6"
  }
 },
 "nbformat": 4,
 "nbformat_minor": 5
}
